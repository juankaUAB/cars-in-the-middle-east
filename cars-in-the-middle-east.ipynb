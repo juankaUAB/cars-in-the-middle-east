{
 "cells": [
  {
   "cell_type": "markdown",
   "id": "76a386f1",
   "metadata": {},
   "source": [
    "# Introducció a la base de dades"
   ]
  },
  {
   "cell_type": "markdown",
   "id": "478cc2eb",
   "metadata": {},
   "source": [
    "L'Orient Mitjà es una de les zones del món on la importació de cotxes es molt comú, i constitueix molts països com per exemple: Arabia Saudi, Qatar, Oman, etc...  \n",
    "\n",
    "<img src=\"images_notebook/cotxe.jpg\">\n",
    "\n",
    "En aquest Notebook analitzarem les diferències entre els diferents països i intentarem predir el preu que tindrà un cotxe en un determinat pais, ja que la divisa en cada pais es diferent, i el valor no es el mateix.\n",
    "\n",
    "\n",
    "Aquesta base de dades conté informació sobre diferents cotxes i les seves especificacions tecniques, com per exemple: la amplada, llargada, cilindrada, tipus de benzina, la velocitat maxima, etc... Doncs a partir d'aquestes caracteristiques es podria arribar a predir el preu o aproximar-nos molt."
   ]
  },
  {
   "cell_type": "markdown",
   "id": "ac40f268",
   "metadata": {},
   "source": [
    "# Llibreries"
   ]
  },
  {
   "cell_type": "markdown",
   "id": "25d951e8",
   "metadata": {},
   "source": [
    "Les llibreries de Python que utilitzarem per realitzar l'analisi son les seguents:\n",
    "<ul>\n",
    "  <li>Pandas: molt util per estructures de dades en forma de taula, similar a excel</li>\n",
    "  <li>Numpy: operacions molt eficients amb grans estructures de dades, com matrius o arrays</li>\n",
    "  <li>Matplotlib: ens permet generar grafiques de tot tipus</li>\n",
    "  <li>Scipy: similar a numpy, incorpora moltes funcions matematiques</li>\n",
    "  <li>Seaborn: utilitza com a base matplotlib, i genera grafiques més complexes i amb més estils</li>\n",
    "  <li>Sklearn: incorpora tots els models d'aprenentatge computacional que utilitzarem per predir, a més de funcions\n",
    "      per analitzar cada model </li>\n",
    "</ul>"
   ]
  },
  {
   "cell_type": "code",
   "execution_count": 40,
   "id": "3f715be9",
   "metadata": {},
   "outputs": [],
   "source": [
    "import numpy as np\n",
    "import pandas as pd\n",
    "import matplotlib.pyplot as plt\n",
    "import scipy\n",
    "import seaborn as sns\n",
    "from sklearn.preprocessing import MinMaxScaler\n",
    "from sklearn.tree import DecisionTreeRegressor\n",
    "from sklearn.linear_model import LinearRegression\n",
    "from sklearn.ensemble import RandomForestRegressor\n",
    "from sklearn.model_selection import RandomizedSearchCV, GridSearchCV, train_test_split\n",
    "from sklearn.metrics import mean_squared_error\n",
    "import math\n",
    "from prettytable import PrettyTable"
   ]
  },
  {
   "cell_type": "markdown",
   "id": "6fe4ab00",
   "metadata": {},
   "source": [
    "# Exploració de les dades"
   ]
  },
  {
   "cell_type": "markdown",
   "id": "04aa0956",
   "metadata": {},
   "source": [
    "Abans de començar a implementar els models predictius, hem d'analitzar una mica la base de dades que tenim per tal de eliminar\n",
    "dades que no serveixin, o per determinar els millors atributs que ens maximitzaran el rendiment del model."
   ]
  },
  {
   "cell_type": "code",
   "execution_count": 41,
   "id": "926131f8",
   "metadata": {},
   "outputs": [
    {
     "data": {
      "text/html": [
       "<div>\n",
       "<style scoped>\n",
       "    .dataframe tbody tr th:only-of-type {\n",
       "        vertical-align: middle;\n",
       "    }\n",
       "\n",
       "    .dataframe tbody tr th {\n",
       "        vertical-align: top;\n",
       "    }\n",
       "\n",
       "    .dataframe thead th {\n",
       "        text-align: right;\n",
       "    }\n",
       "</style>\n",
       "<table border=\"1\" class=\"dataframe\">\n",
       "  <thead>\n",
       "    <tr style=\"text-align: right;\">\n",
       "      <th></th>\n",
       "      <th>Unnamed: 0</th>\n",
       "      <th>Engine Capacity</th>\n",
       "      <th>Cylinders</th>\n",
       "      <th>Drive Type</th>\n",
       "      <th>Fuel Tank Capacity</th>\n",
       "      <th>Fuel Economy</th>\n",
       "      <th>Fuel Type</th>\n",
       "      <th>Horsepower</th>\n",
       "      <th>Torque</th>\n",
       "      <th>Transmission</th>\n",
       "      <th>...</th>\n",
       "      <th>Acceleration</th>\n",
       "      <th>Length</th>\n",
       "      <th>Width</th>\n",
       "      <th>Height</th>\n",
       "      <th>Wheelbase</th>\n",
       "      <th>Trunk Capacity</th>\n",
       "      <th>name</th>\n",
       "      <th>price</th>\n",
       "      <th>currency</th>\n",
       "      <th>Country</th>\n",
       "    </tr>\n",
       "  </thead>\n",
       "  <tbody>\n",
       "    <tr>\n",
       "      <th>0</th>\n",
       "      <td>0</td>\n",
       "      <td>1.2</td>\n",
       "      <td>3</td>\n",
       "      <td>0</td>\n",
       "      <td>42.0</td>\n",
       "      <td>4.9</td>\n",
       "      <td>0</td>\n",
       "      <td>76</td>\n",
       "      <td>100.0</td>\n",
       "      <td>0</td>\n",
       "      <td>...</td>\n",
       "      <td>14.0</td>\n",
       "      <td>4.245</td>\n",
       "      <td>1.670</td>\n",
       "      <td>1.515</td>\n",
       "      <td>2.550</td>\n",
       "      <td>450.0</td>\n",
       "      <td>Mitsubishi Attrage 2021 1.2 GLX (Base)</td>\n",
       "      <td>34099.0</td>\n",
       "      <td>0</td>\n",
       "      <td>0</td>\n",
       "    </tr>\n",
       "    <tr>\n",
       "      <th>1</th>\n",
       "      <td>1</td>\n",
       "      <td>1.2</td>\n",
       "      <td>3</td>\n",
       "      <td>0</td>\n",
       "      <td>42.0</td>\n",
       "      <td>4.9</td>\n",
       "      <td>0</td>\n",
       "      <td>76</td>\n",
       "      <td>100.0</td>\n",
       "      <td>0</td>\n",
       "      <td>...</td>\n",
       "      <td>14.0</td>\n",
       "      <td>4.245</td>\n",
       "      <td>1.670</td>\n",
       "      <td>1.515</td>\n",
       "      <td>2.550</td>\n",
       "      <td>450.0</td>\n",
       "      <td>Mitsubishi Attrage 2021 1.2 GLX (Base)</td>\n",
       "      <td>34099.0</td>\n",
       "      <td>0</td>\n",
       "      <td>0</td>\n",
       "    </tr>\n",
       "    <tr>\n",
       "      <th>2</th>\n",
       "      <td>2</td>\n",
       "      <td>1.4</td>\n",
       "      <td>4</td>\n",
       "      <td>0</td>\n",
       "      <td>45.0</td>\n",
       "      <td>6.3</td>\n",
       "      <td>0</td>\n",
       "      <td>75</td>\n",
       "      <td>118.0</td>\n",
       "      <td>1</td>\n",
       "      <td>...</td>\n",
       "      <td>16.0</td>\n",
       "      <td>3.864</td>\n",
       "      <td>1.716</td>\n",
       "      <td>1.721</td>\n",
       "      <td>2.513</td>\n",
       "      <td>2800.0</td>\n",
       "      <td>Fiat Fiorino 2021 1.4L Standard</td>\n",
       "      <td>41250.0</td>\n",
       "      <td>0</td>\n",
       "      <td>0</td>\n",
       "    </tr>\n",
       "    <tr>\n",
       "      <th>3</th>\n",
       "      <td>3</td>\n",
       "      <td>1.6</td>\n",
       "      <td>4</td>\n",
       "      <td>0</td>\n",
       "      <td>50.0</td>\n",
       "      <td>6.4</td>\n",
       "      <td>0</td>\n",
       "      <td>102</td>\n",
       "      <td>145.0</td>\n",
       "      <td>0</td>\n",
       "      <td>...</td>\n",
       "      <td>11.0</td>\n",
       "      <td>4.354</td>\n",
       "      <td>1.994</td>\n",
       "      <td>1.529</td>\n",
       "      <td>2.635</td>\n",
       "      <td>510.0</td>\n",
       "      <td>Renault Symbol 2021 1.6L PE</td>\n",
       "      <td>44930.0</td>\n",
       "      <td>0</td>\n",
       "      <td>0</td>\n",
       "    </tr>\n",
       "    <tr>\n",
       "      <th>4</th>\n",
       "      <td>4</td>\n",
       "      <td>1.5</td>\n",
       "      <td>4</td>\n",
       "      <td>0</td>\n",
       "      <td>48.0</td>\n",
       "      <td>5.8</td>\n",
       "      <td>0</td>\n",
       "      <td>112</td>\n",
       "      <td>150.0</td>\n",
       "      <td>0</td>\n",
       "      <td>...</td>\n",
       "      <td>10.9</td>\n",
       "      <td>4.314</td>\n",
       "      <td>1.809</td>\n",
       "      <td>1.624</td>\n",
       "      <td>2.585</td>\n",
       "      <td>448.0</td>\n",
       "      <td>MG ZS 2021 1.5L STD</td>\n",
       "      <td>57787.0</td>\n",
       "      <td>0</td>\n",
       "      <td>0</td>\n",
       "    </tr>\n",
       "  </tbody>\n",
       "</table>\n",
       "<p>5 rows × 22 columns</p>\n",
       "</div>"
      ],
      "text/plain": [
       "   Unnamed: 0  Engine Capacity  Cylinders  Drive Type  Fuel Tank Capacity  \\\n",
       "0           0              1.2          3           0                42.0   \n",
       "1           1              1.2          3           0                42.0   \n",
       "2           2              1.4          4           0                45.0   \n",
       "3           3              1.6          4           0                50.0   \n",
       "4           4              1.5          4           0                48.0   \n",
       "\n",
       "   Fuel Economy  Fuel Type  Horsepower  Torque  Transmission  ...  \\\n",
       "0           4.9          0          76   100.0             0  ...   \n",
       "1           4.9          0          76   100.0             0  ...   \n",
       "2           6.3          0          75   118.0             1  ...   \n",
       "3           6.4          0         102   145.0             0  ...   \n",
       "4           5.8          0         112   150.0             0  ...   \n",
       "\n",
       "   Acceleration  Length  Width  Height  Wheelbase  Trunk Capacity  \\\n",
       "0          14.0   4.245  1.670   1.515      2.550           450.0   \n",
       "1          14.0   4.245  1.670   1.515      2.550           450.0   \n",
       "2          16.0   3.864  1.716   1.721      2.513          2800.0   \n",
       "3          11.0   4.354  1.994   1.529      2.635           510.0   \n",
       "4          10.9   4.314  1.809   1.624      2.585           448.0   \n",
       "\n",
       "                                     name    price currency  Country  \n",
       "0  Mitsubishi Attrage 2021 1.2 GLX (Base)  34099.0        0        0  \n",
       "1  Mitsubishi Attrage 2021 1.2 GLX (Base)  34099.0        0        0  \n",
       "2         Fiat Fiorino 2021 1.4L Standard  41250.0        0        0  \n",
       "3             Renault Symbol 2021 1.6L PE  44930.0        0        0  \n",
       "4                     MG ZS 2021 1.5L STD  57787.0        0        0  \n",
       "\n",
       "[5 rows x 22 columns]"
      ]
     },
     "execution_count": 41,
     "metadata": {},
     "output_type": "execute_result"
    }
   ],
   "source": [
    "dataset = pd.read_csv(\"BD/dataframe_YesIndex_YesHeader_C.csv\")\n",
    "dataset.head(5)"
   ]
  },
  {
   "cell_type": "markdown",
   "id": "d29ffbbc",
   "metadata": {},
   "source": [
    "Com es pot veure, la primera columna de la base de dades es una copia del index, i per tant, la eliminarem. També comprovarem que no tenim files duplicades."
   ]
  },
  {
   "cell_type": "code",
   "execution_count": 42,
   "id": "99e9c6ff",
   "metadata": {},
   "outputs": [
    {
     "data": {
      "text/html": [
       "<div>\n",
       "<style scoped>\n",
       "    .dataframe tbody tr th:only-of-type {\n",
       "        vertical-align: middle;\n",
       "    }\n",
       "\n",
       "    .dataframe tbody tr th {\n",
       "        vertical-align: top;\n",
       "    }\n",
       "\n",
       "    .dataframe thead th {\n",
       "        text-align: right;\n",
       "    }\n",
       "</style>\n",
       "<table border=\"1\" class=\"dataframe\">\n",
       "  <thead>\n",
       "    <tr style=\"text-align: right;\">\n",
       "      <th></th>\n",
       "      <th>Engine Capacity</th>\n",
       "      <th>Cylinders</th>\n",
       "      <th>Drive Type</th>\n",
       "      <th>Fuel Tank Capacity</th>\n",
       "      <th>Fuel Economy</th>\n",
       "      <th>Fuel Type</th>\n",
       "      <th>Horsepower</th>\n",
       "      <th>Torque</th>\n",
       "      <th>Transmission</th>\n",
       "      <th>Top Speed</th>\n",
       "      <th>...</th>\n",
       "      <th>Acceleration</th>\n",
       "      <th>Length</th>\n",
       "      <th>Width</th>\n",
       "      <th>Height</th>\n",
       "      <th>Wheelbase</th>\n",
       "      <th>Trunk Capacity</th>\n",
       "      <th>name</th>\n",
       "      <th>price</th>\n",
       "      <th>currency</th>\n",
       "      <th>Country</th>\n",
       "    </tr>\n",
       "  </thead>\n",
       "  <tbody>\n",
       "    <tr>\n",
       "      <th>0</th>\n",
       "      <td>1.2</td>\n",
       "      <td>3</td>\n",
       "      <td>0</td>\n",
       "      <td>42.0</td>\n",
       "      <td>4.9</td>\n",
       "      <td>0</td>\n",
       "      <td>76</td>\n",
       "      <td>100.0</td>\n",
       "      <td>0</td>\n",
       "      <td>170</td>\n",
       "      <td>...</td>\n",
       "      <td>14.0</td>\n",
       "      <td>4.245</td>\n",
       "      <td>1.670</td>\n",
       "      <td>1.515</td>\n",
       "      <td>2.550</td>\n",
       "      <td>450.0</td>\n",
       "      <td>Mitsubishi Attrage 2021 1.2 GLX (Base)</td>\n",
       "      <td>34099.0</td>\n",
       "      <td>0</td>\n",
       "      <td>0</td>\n",
       "    </tr>\n",
       "    <tr>\n",
       "      <th>1</th>\n",
       "      <td>1.2</td>\n",
       "      <td>3</td>\n",
       "      <td>0</td>\n",
       "      <td>42.0</td>\n",
       "      <td>4.9</td>\n",
       "      <td>0</td>\n",
       "      <td>76</td>\n",
       "      <td>100.0</td>\n",
       "      <td>0</td>\n",
       "      <td>170</td>\n",
       "      <td>...</td>\n",
       "      <td>14.0</td>\n",
       "      <td>4.245</td>\n",
       "      <td>1.670</td>\n",
       "      <td>1.515</td>\n",
       "      <td>2.550</td>\n",
       "      <td>450.0</td>\n",
       "      <td>Mitsubishi Attrage 2021 1.2 GLX (Base)</td>\n",
       "      <td>34099.0</td>\n",
       "      <td>0</td>\n",
       "      <td>0</td>\n",
       "    </tr>\n",
       "    <tr>\n",
       "      <th>36</th>\n",
       "      <td>2.0</td>\n",
       "      <td>4</td>\n",
       "      <td>0</td>\n",
       "      <td>50.0</td>\n",
       "      <td>7.5</td>\n",
       "      <td>0</td>\n",
       "      <td>150</td>\n",
       "      <td>180.0</td>\n",
       "      <td>0</td>\n",
       "      <td>194</td>\n",
       "      <td>...</td>\n",
       "      <td>10.0</td>\n",
       "      <td>4.165</td>\n",
       "      <td>1.801</td>\n",
       "      <td>1.565</td>\n",
       "      <td>2.600</td>\n",
       "      <td>544.0</td>\n",
       "      <td>Hyundai Kona 2021 2.0L GLS Premium Sunroof</td>\n",
       "      <td>95700.0</td>\n",
       "      <td>0</td>\n",
       "      <td>0</td>\n",
       "    </tr>\n",
       "    <tr>\n",
       "      <th>37</th>\n",
       "      <td>2.0</td>\n",
       "      <td>4</td>\n",
       "      <td>0</td>\n",
       "      <td>50.0</td>\n",
       "      <td>7.5</td>\n",
       "      <td>0</td>\n",
       "      <td>150</td>\n",
       "      <td>180.0</td>\n",
       "      <td>0</td>\n",
       "      <td>194</td>\n",
       "      <td>...</td>\n",
       "      <td>10.0</td>\n",
       "      <td>4.165</td>\n",
       "      <td>1.801</td>\n",
       "      <td>1.565</td>\n",
       "      <td>2.600</td>\n",
       "      <td>544.0</td>\n",
       "      <td>Hyundai Kona 2021 2.0L GLS Premium Sunroof</td>\n",
       "      <td>95700.0</td>\n",
       "      <td>0</td>\n",
       "      <td>0</td>\n",
       "    </tr>\n",
       "    <tr>\n",
       "      <th>49</th>\n",
       "      <td>1.8</td>\n",
       "      <td>4</td>\n",
       "      <td>0</td>\n",
       "      <td>53.0</td>\n",
       "      <td>6.8</td>\n",
       "      <td>0</td>\n",
       "      <td>140</td>\n",
       "      <td>175.0</td>\n",
       "      <td>0</td>\n",
       "      <td>180</td>\n",
       "      <td>...</td>\n",
       "      <td>10.6</td>\n",
       "      <td>4.257</td>\n",
       "      <td>1.775</td>\n",
       "      <td>1.646</td>\n",
       "      <td>2.555</td>\n",
       "      <td>530.0</td>\n",
       "      <td>Chevrolet Trax 2021 1.8L LT FWD</td>\n",
       "      <td>80300.0</td>\n",
       "      <td>0</td>\n",
       "      <td>0</td>\n",
       "    </tr>\n",
       "    <tr>\n",
       "      <th>...</th>\n",
       "      <td>...</td>\n",
       "      <td>...</td>\n",
       "      <td>...</td>\n",
       "      <td>...</td>\n",
       "      <td>...</td>\n",
       "      <td>...</td>\n",
       "      <td>...</td>\n",
       "      <td>...</td>\n",
       "      <td>...</td>\n",
       "      <td>...</td>\n",
       "      <td>...</td>\n",
       "      <td>...</td>\n",
       "      <td>...</td>\n",
       "      <td>...</td>\n",
       "      <td>...</td>\n",
       "      <td>...</td>\n",
       "      <td>...</td>\n",
       "      <td>...</td>\n",
       "      <td>...</td>\n",
       "      <td>...</td>\n",
       "      <td>...</td>\n",
       "    </tr>\n",
       "    <tr>\n",
       "      <th>4524</th>\n",
       "      <td>3.8</td>\n",
       "      <td>6</td>\n",
       "      <td>1</td>\n",
       "      <td>68.0</td>\n",
       "      <td>9.9</td>\n",
       "      <td>0</td>\n",
       "      <td>560</td>\n",
       "      <td>700.0</td>\n",
       "      <td>1</td>\n",
       "      <td>318</td>\n",
       "      <td>...</td>\n",
       "      <td>3.2</td>\n",
       "      <td>4.506</td>\n",
       "      <td>1.880</td>\n",
       "      <td>1.292</td>\n",
       "      <td>2.450</td>\n",
       "      <td>115.0</td>\n",
       "      <td>Porsche 911 2021 Turbo S Cabriolet</td>\n",
       "      <td>795800.0</td>\n",
       "      <td>2</td>\n",
       "      <td>2</td>\n",
       "    </tr>\n",
       "    <tr>\n",
       "      <th>4534</th>\n",
       "      <td>4.0</td>\n",
       "      <td>8</td>\n",
       "      <td>1</td>\n",
       "      <td>80.0</td>\n",
       "      <td>2.9</td>\n",
       "      <td>0</td>\n",
       "      <td>680</td>\n",
       "      <td>850.0</td>\n",
       "      <td>0</td>\n",
       "      <td>310</td>\n",
       "      <td>...</td>\n",
       "      <td>3.5</td>\n",
       "      <td>5.199</td>\n",
       "      <td>1.937</td>\n",
       "      <td>1.432</td>\n",
       "      <td>3.100</td>\n",
       "      <td>405.0</td>\n",
       "      <td>Porsche Panamera 2021 Turbo S E-Hybrid Executive</td>\n",
       "      <td>865500.0</td>\n",
       "      <td>2</td>\n",
       "      <td>2</td>\n",
       "    </tr>\n",
       "    <tr>\n",
       "      <th>4535</th>\n",
       "      <td>4.0</td>\n",
       "      <td>8</td>\n",
       "      <td>1</td>\n",
       "      <td>80.0</td>\n",
       "      <td>2.9</td>\n",
       "      <td>0</td>\n",
       "      <td>680</td>\n",
       "      <td>850.0</td>\n",
       "      <td>0</td>\n",
       "      <td>310</td>\n",
       "      <td>...</td>\n",
       "      <td>3.5</td>\n",
       "      <td>5.199</td>\n",
       "      <td>1.937</td>\n",
       "      <td>1.432</td>\n",
       "      <td>3.100</td>\n",
       "      <td>405.0</td>\n",
       "      <td>Porsche Panamera 2021 Turbo S E-Hybrid Executive</td>\n",
       "      <td>865500.0</td>\n",
       "      <td>2</td>\n",
       "      <td>2</td>\n",
       "    </tr>\n",
       "    <tr>\n",
       "      <th>4546</th>\n",
       "      <td>3.9</td>\n",
       "      <td>8</td>\n",
       "      <td>2</td>\n",
       "      <td>91.0</td>\n",
       "      <td>11.6</td>\n",
       "      <td>0</td>\n",
       "      <td>610</td>\n",
       "      <td>760.0</td>\n",
       "      <td>0</td>\n",
       "      <td>320</td>\n",
       "      <td>...</td>\n",
       "      <td>3.4</td>\n",
       "      <td>4.922</td>\n",
       "      <td>1.980</td>\n",
       "      <td>1.383</td>\n",
       "      <td>2.990</td>\n",
       "      <td>450.0</td>\n",
       "      <td>Ferrari GTC4Lusso 2021 3.9T V8</td>\n",
       "      <td>1160000.0</td>\n",
       "      <td>2</td>\n",
       "      <td>2</td>\n",
       "    </tr>\n",
       "    <tr>\n",
       "      <th>4547</th>\n",
       "      <td>3.9</td>\n",
       "      <td>8</td>\n",
       "      <td>2</td>\n",
       "      <td>91.0</td>\n",
       "      <td>11.6</td>\n",
       "      <td>0</td>\n",
       "      <td>610</td>\n",
       "      <td>760.0</td>\n",
       "      <td>0</td>\n",
       "      <td>320</td>\n",
       "      <td>...</td>\n",
       "      <td>3.4</td>\n",
       "      <td>4.922</td>\n",
       "      <td>1.980</td>\n",
       "      <td>1.383</td>\n",
       "      <td>2.990</td>\n",
       "      <td>450.0</td>\n",
       "      <td>Ferrari GTC4Lusso 2021 3.9T V8</td>\n",
       "      <td>1160000.0</td>\n",
       "      <td>2</td>\n",
       "      <td>2</td>\n",
       "    </tr>\n",
       "  </tbody>\n",
       "</table>\n",
       "<p>568 rows × 21 columns</p>\n",
       "</div>"
      ],
      "text/plain": [
       "      Engine Capacity  Cylinders  Drive Type  Fuel Tank Capacity  \\\n",
       "0                 1.2          3           0                42.0   \n",
       "1                 1.2          3           0                42.0   \n",
       "36                2.0          4           0                50.0   \n",
       "37                2.0          4           0                50.0   \n",
       "49                1.8          4           0                53.0   \n",
       "...               ...        ...         ...                 ...   \n",
       "4524              3.8          6           1                68.0   \n",
       "4534              4.0          8           1                80.0   \n",
       "4535              4.0          8           1                80.0   \n",
       "4546              3.9          8           2                91.0   \n",
       "4547              3.9          8           2                91.0   \n",
       "\n",
       "      Fuel Economy  Fuel Type  Horsepower  Torque  Transmission  Top Speed  \\\n",
       "0              4.9          0          76   100.0             0        170   \n",
       "1              4.9          0          76   100.0             0        170   \n",
       "36             7.5          0         150   180.0             0        194   \n",
       "37             7.5          0         150   180.0             0        194   \n",
       "49             6.8          0         140   175.0             0        180   \n",
       "...            ...        ...         ...     ...           ...        ...   \n",
       "4524           9.9          0         560   700.0             1        318   \n",
       "4534           2.9          0         680   850.0             0        310   \n",
       "4535           2.9          0         680   850.0             0        310   \n",
       "4546          11.6          0         610   760.0             0        320   \n",
       "4547          11.6          0         610   760.0             0        320   \n",
       "\n",
       "      ...  Acceleration  Length  Width  Height  Wheelbase  Trunk Capacity  \\\n",
       "0     ...          14.0   4.245  1.670   1.515      2.550           450.0   \n",
       "1     ...          14.0   4.245  1.670   1.515      2.550           450.0   \n",
       "36    ...          10.0   4.165  1.801   1.565      2.600           544.0   \n",
       "37    ...          10.0   4.165  1.801   1.565      2.600           544.0   \n",
       "49    ...          10.6   4.257  1.775   1.646      2.555           530.0   \n",
       "...   ...           ...     ...    ...     ...        ...             ...   \n",
       "4524  ...           3.2   4.506  1.880   1.292      2.450           115.0   \n",
       "4534  ...           3.5   5.199  1.937   1.432      3.100           405.0   \n",
       "4535  ...           3.5   5.199  1.937   1.432      3.100           405.0   \n",
       "4546  ...           3.4   4.922  1.980   1.383      2.990           450.0   \n",
       "4547  ...           3.4   4.922  1.980   1.383      2.990           450.0   \n",
       "\n",
       "                                                  name      price  currency  \\\n",
       "0               Mitsubishi Attrage 2021 1.2 GLX (Base)    34099.0         0   \n",
       "1               Mitsubishi Attrage 2021 1.2 GLX (Base)    34099.0         0   \n",
       "36          Hyundai Kona 2021 2.0L GLS Premium Sunroof    95700.0         0   \n",
       "37          Hyundai Kona 2021 2.0L GLS Premium Sunroof    95700.0         0   \n",
       "49                     Chevrolet Trax 2021 1.8L LT FWD    80300.0         0   \n",
       "...                                                ...        ...       ...   \n",
       "4524                Porsche 911 2021 Turbo S Cabriolet   795800.0         2   \n",
       "4534  Porsche Panamera 2021 Turbo S E-Hybrid Executive   865500.0         2   \n",
       "4535  Porsche Panamera 2021 Turbo S E-Hybrid Executive   865500.0         2   \n",
       "4546                    Ferrari GTC4Lusso 2021 3.9T V8  1160000.0         2   \n",
       "4547                    Ferrari GTC4Lusso 2021 3.9T V8  1160000.0         2   \n",
       "\n",
       "      Country  \n",
       "0           0  \n",
       "1           0  \n",
       "36          0  \n",
       "37          0  \n",
       "49          0  \n",
       "...       ...  \n",
       "4524        2  \n",
       "4534        2  \n",
       "4535        2  \n",
       "4546        2  \n",
       "4547        2  \n",
       "\n",
       "[568 rows x 21 columns]"
      ]
     },
     "execution_count": 42,
     "metadata": {},
     "output_type": "execute_result"
    }
   ],
   "source": [
    "dataset = dataset.drop(columns=[\"Unnamed: 0\"])\n",
    "dataset[dataset.duplicated(keep=False)]"
   ]
  },
  {
   "cell_type": "markdown",
   "id": "2de740dc",
   "metadata": {},
   "source": [
    "La funció duplicated() ens ha donat 568 files repetides, per tant, hem d'eliminar algunes per deixar una unica fila."
   ]
  },
  {
   "cell_type": "code",
   "execution_count": 43,
   "id": "de954419",
   "metadata": {},
   "outputs": [
    {
     "data": {
      "text/html": [
       "<div>\n",
       "<style scoped>\n",
       "    .dataframe tbody tr th:only-of-type {\n",
       "        vertical-align: middle;\n",
       "    }\n",
       "\n",
       "    .dataframe tbody tr th {\n",
       "        vertical-align: top;\n",
       "    }\n",
       "\n",
       "    .dataframe thead th {\n",
       "        text-align: right;\n",
       "    }\n",
       "</style>\n",
       "<table border=\"1\" class=\"dataframe\">\n",
       "  <thead>\n",
       "    <tr style=\"text-align: right;\">\n",
       "      <th></th>\n",
       "      <th>Engine Capacity</th>\n",
       "      <th>Cylinders</th>\n",
       "      <th>Drive Type</th>\n",
       "      <th>Fuel Tank Capacity</th>\n",
       "      <th>Fuel Economy</th>\n",
       "      <th>Fuel Type</th>\n",
       "      <th>Horsepower</th>\n",
       "      <th>Torque</th>\n",
       "      <th>Transmission</th>\n",
       "      <th>Top Speed</th>\n",
       "      <th>...</th>\n",
       "      <th>Acceleration</th>\n",
       "      <th>Length</th>\n",
       "      <th>Width</th>\n",
       "      <th>Height</th>\n",
       "      <th>Wheelbase</th>\n",
       "      <th>Trunk Capacity</th>\n",
       "      <th>name</th>\n",
       "      <th>price</th>\n",
       "      <th>currency</th>\n",
       "      <th>Country</th>\n",
       "    </tr>\n",
       "  </thead>\n",
       "  <tbody>\n",
       "  </tbody>\n",
       "</table>\n",
       "<p>0 rows × 21 columns</p>\n",
       "</div>"
      ],
      "text/plain": [
       "Empty DataFrame\n",
       "Columns: [Engine Capacity, Cylinders, Drive Type, Fuel Tank Capacity, Fuel Economy, Fuel Type, Horsepower, Torque, Transmission, Top Speed, Seating Capacity, Acceleration, Length, Width, Height, Wheelbase, Trunk Capacity, name, price, currency, Country]\n",
       "Index: []\n",
       "\n",
       "[0 rows x 21 columns]"
      ]
     },
     "execution_count": 43,
     "metadata": {},
     "output_type": "execute_result"
    }
   ],
   "source": [
    "dataset = dataset.drop_duplicates()\n",
    "dataset[dataset.duplicated(keep=False)]"
   ]
  },
  {
   "cell_type": "markdown",
   "id": "fe6c7db0",
   "metadata": {},
   "source": [
    "També hem de mirar que no existeixin valors NaN a la base de dades, i en cas afirmatiu, eliminar aquestes files."
   ]
  },
  {
   "cell_type": "code",
   "execution_count": 44,
   "id": "6591b5f3",
   "metadata": {},
   "outputs": [
    {
     "data": {
      "text/plain": [
       "False"
      ]
     },
     "execution_count": 44,
     "metadata": {},
     "output_type": "execute_result"
    }
   ],
   "source": [
    "dataset.isnull().values.any()"
   ]
  },
  {
   "cell_type": "markdown",
   "id": "777fd0f4",
   "metadata": {},
   "source": [
    "No hi han valors NaN.  \n",
    "Ara, veurem si un cotxe amb les mateixes caracteristiques existeix en diferents paisos. Això ens donarà pas\n",
    "a analitzar en que paisos es més rentable comprar el mateix cotxe."
   ]
  },
  {
   "cell_type": "code",
   "execution_count": 45,
   "id": "65f8ceff",
   "metadata": {},
   "outputs": [
    {
     "data": {
      "text/html": [
       "<div>\n",
       "<style scoped>\n",
       "    .dataframe tbody tr th:only-of-type {\n",
       "        vertical-align: middle;\n",
       "    }\n",
       "\n",
       "    .dataframe tbody tr th {\n",
       "        vertical-align: top;\n",
       "    }\n",
       "\n",
       "    .dataframe thead th {\n",
       "        text-align: right;\n",
       "    }\n",
       "</style>\n",
       "<table border=\"1\" class=\"dataframe\">\n",
       "  <thead>\n",
       "    <tr style=\"text-align: right;\">\n",
       "      <th></th>\n",
       "      <th>Engine Capacity</th>\n",
       "      <th>Cylinders</th>\n",
       "      <th>Drive Type</th>\n",
       "      <th>Fuel Tank Capacity</th>\n",
       "      <th>Fuel Economy</th>\n",
       "      <th>Fuel Type</th>\n",
       "      <th>Horsepower</th>\n",
       "      <th>Torque</th>\n",
       "      <th>Transmission</th>\n",
       "      <th>Top Speed</th>\n",
       "      <th>...</th>\n",
       "      <th>Acceleration</th>\n",
       "      <th>Length</th>\n",
       "      <th>Width</th>\n",
       "      <th>Height</th>\n",
       "      <th>Wheelbase</th>\n",
       "      <th>Trunk Capacity</th>\n",
       "      <th>name</th>\n",
       "      <th>price</th>\n",
       "      <th>currency</th>\n",
       "      <th>Country</th>\n",
       "    </tr>\n",
       "  </thead>\n",
       "  <tbody>\n",
       "    <tr>\n",
       "      <th>0</th>\n",
       "      <td>1.2</td>\n",
       "      <td>3</td>\n",
       "      <td>0</td>\n",
       "      <td>42.0</td>\n",
       "      <td>4.9</td>\n",
       "      <td>0</td>\n",
       "      <td>76</td>\n",
       "      <td>100.0</td>\n",
       "      <td>0</td>\n",
       "      <td>170</td>\n",
       "      <td>...</td>\n",
       "      <td>14.0</td>\n",
       "      <td>4.245</td>\n",
       "      <td>1.67</td>\n",
       "      <td>1.515</td>\n",
       "      <td>2.55</td>\n",
       "      <td>450.0</td>\n",
       "      <td>Mitsubishi Attrage 2021 1.2 GLX (Base)</td>\n",
       "      <td>34099.0</td>\n",
       "      <td>0</td>\n",
       "      <td>0</td>\n",
       "    </tr>\n",
       "    <tr>\n",
       "      <th>1447</th>\n",
       "      <td>1.2</td>\n",
       "      <td>3</td>\n",
       "      <td>0</td>\n",
       "      <td>42.0</td>\n",
       "      <td>4.9</td>\n",
       "      <td>0</td>\n",
       "      <td>76</td>\n",
       "      <td>100.0</td>\n",
       "      <td>0</td>\n",
       "      <td>170</td>\n",
       "      <td>...</td>\n",
       "      <td>14.0</td>\n",
       "      <td>4.245</td>\n",
       "      <td>1.67</td>\n",
       "      <td>1.515</td>\n",
       "      <td>2.55</td>\n",
       "      <td>450.0</td>\n",
       "      <td>Mitsubishi Attrage 2021 1.2 GLX (Base)</td>\n",
       "      <td>4000.0</td>\n",
       "      <td>5</td>\n",
       "      <td>5</td>\n",
       "    </tr>\n",
       "    <tr>\n",
       "      <th>2536</th>\n",
       "      <td>1.2</td>\n",
       "      <td>3</td>\n",
       "      <td>0</td>\n",
       "      <td>42.0</td>\n",
       "      <td>4.9</td>\n",
       "      <td>0</td>\n",
       "      <td>76</td>\n",
       "      <td>100.0</td>\n",
       "      <td>0</td>\n",
       "      <td>170</td>\n",
       "      <td>...</td>\n",
       "      <td>14.0</td>\n",
       "      <td>4.245</td>\n",
       "      <td>1.67</td>\n",
       "      <td>1.515</td>\n",
       "      <td>2.55</td>\n",
       "      <td>450.0</td>\n",
       "      <td>Mitsubishi Attrage 2021 1.2 GLX (Base)</td>\n",
       "      <td>3000.0</td>\n",
       "      <td>3</td>\n",
       "      <td>3</td>\n",
       "    </tr>\n",
       "  </tbody>\n",
       "</table>\n",
       "<p>3 rows × 21 columns</p>\n",
       "</div>"
      ],
      "text/plain": [
       "      Engine Capacity  Cylinders  Drive Type  Fuel Tank Capacity  \\\n",
       "0                 1.2          3           0                42.0   \n",
       "1447              1.2          3           0                42.0   \n",
       "2536              1.2          3           0                42.0   \n",
       "\n",
       "      Fuel Economy  Fuel Type  Horsepower  Torque  Transmission  Top Speed  \\\n",
       "0              4.9          0          76   100.0             0        170   \n",
       "1447           4.9          0          76   100.0             0        170   \n",
       "2536           4.9          0          76   100.0             0        170   \n",
       "\n",
       "      ...  Acceleration  Length  Width  Height  Wheelbase  Trunk Capacity  \\\n",
       "0     ...          14.0   4.245   1.67   1.515       2.55           450.0   \n",
       "1447  ...          14.0   4.245   1.67   1.515       2.55           450.0   \n",
       "2536  ...          14.0   4.245   1.67   1.515       2.55           450.0   \n",
       "\n",
       "                                        name    price  currency  Country  \n",
       "0     Mitsubishi Attrage 2021 1.2 GLX (Base)  34099.0         0        0  \n",
       "1447  Mitsubishi Attrage 2021 1.2 GLX (Base)   4000.0         5        5  \n",
       "2536  Mitsubishi Attrage 2021 1.2 GLX (Base)   3000.0         3        3  \n",
       "\n",
       "[3 rows x 21 columns]"
      ]
     },
     "execution_count": 45,
     "metadata": {},
     "output_type": "execute_result"
    }
   ],
   "source": [
    "dataset[dataset[\"name\"] == \"Mitsubishi Attrage 2021 1.2 GLX (Base)\"]"
   ]
  },
  {
   "cell_type": "markdown",
   "id": "cf25904e",
   "metadata": {},
   "source": [
    "Amb l'exemple del cotxe que hem buscat a la base de dades, el Mitsubishi Attrage 2021 1.2 GLX, trobem que existeix en 3 paisos diferents, amb les mateixes caracteristiques però amb preus diferents segons el pais.  \n",
    "Anem ara a explorar una mica més a fons cadascun dels atributs de la nostra base de dades. Primer mostrem una gràfica on es pot veure la diferencia de preus que hi ha entre cada pais."
   ]
  },
  {
   "cell_type": "code",
   "execution_count": 46,
   "id": "b5f97875",
   "metadata": {},
   "outputs": [
    {
     "data": {
      "image/png": "[encoded data removed]",
      "text/plain": [
       "<Figure size 720x720 with 1 Axes>"
      ]
     },
     "metadata": {
      "needs_background": "light"
     },
     "output_type": "display_data"
    }
   ],
   "source": [
    "fig, ax = plt.subplots(figsize=(10,10))\n",
    "ax = sns.barplot(x=\"Country\", y=\"price\", data=dataset[[\"price\",\"Country\"]],palette='pastel')"
   ]
  },
  {
   "cell_type": "code",
   "execution_count": 47,
   "id": "5161194f",
   "metadata": {},
   "outputs": [
    {
     "data": {
      "text/plain": [
       "(array([ 582.,    0.,  771.,    0.,  626.,    0.,  654.,    0.,  621.,\n",
       "        1022.]),\n",
       " array([0. , 0.5, 1. , 1.5, 2. , 2.5, 3. , 3.5, 4. , 4.5, 5. ]),\n",
       " <BarContainer object of 10 artists>)"
      ]
     },
     "execution_count": 47,
     "metadata": {},
     "output_type": "execute_result"
    },
    {
     "data": {
      "image/png": "[encoded data removed]",
      "text/plain": [
       "<Figure size 432x288 with 1 Axes>"
      ]
     },
     "metadata": {
      "needs_background": "light"
     },
     "output_type": "display_data"
    }
   ],
   "source": [
    "plt.hist(dataset['Country'],rwidth=0.7)"
   ]
  },
  {
   "cell_type": "markdown",
   "id": "3d6e3bdf",
   "metadata": {},
   "source": [
    "Es pot veure que els ultims paisos o tenen cotxes que costen pocs diners, o la moneda d'aquells paisos es d'un valor baix en comparació amb els altres. També es pot veure que al ultim pais hi ha més cotxes que als altres.  \n",
    "Ara veurem els atributs de la BD:"
   ]
  },
  {
   "cell_type": "code",
   "execution_count": 48,
   "id": "5a6a4955",
   "metadata": {},
   "outputs": [
    {
     "name": "stdout",
     "output_type": "stream",
     "text": [
      "Els atributs de la nostra BD:  ['Engine Capacity' 'Cylinders' 'Drive Type' 'Fuel Tank Capacity'\n",
      " 'Fuel Economy' 'Fuel Type' 'Horsepower' 'Torque' 'Transmission'\n",
      " 'Top Speed' 'Seating Capacity' 'Acceleration' 'Length' 'Width' 'Height'\n",
      " 'Wheelbase' 'Trunk Capacity' 'name' 'price' 'currency' 'Country']\n"
     ]
    }
   ],
   "source": [
    "print(\"Els atributs de la nostra BD: \", np.array(dataset.columns))"
   ]
  },
  {
   "cell_type": "markdown",
   "id": "6b58b9e6",
   "metadata": {},
   "source": [
    "On 'price' es el atribut target, objectiu o atribut a predir. Escollim el preu com l'objectiu perque volem predir el preu d'un cotxe en diferents paisos per veure en quin sortirà més rentable comprar el cotxe.  \n",
    "\n",
    "Abans de descriure amb més detall els atributs, generarem una matriu de correlació entre els diferents atributs per tal de determinar els que tinguin major correlació amb el preu, i els altres els eliminarem. Després, dibuixarem un mapa de calor per veure millor les correlacions."
   ]
  },
  {
   "cell_type": "code",
   "execution_count": 49,
   "id": "b9b4c81a",
   "metadata": {},
   "outputs": [
    {
     "data": {
      "text/plain": [
       "<AxesSubplot:>"
      ]
     },
     "execution_count": 49,
     "metadata": {},
     "output_type": "execute_result"
    },
    {
     "data": {
      "image/png": "[encoded data removed]",
      "text/plain": [
       "<Figure size 1152x1152 with 2 Axes>"
      ]
     },
     "metadata": {
      "needs_background": "light"
     },
     "output_type": "display_data"
    }
   ],
   "source": [
    "fig, ax = plt.subplots(figsize=(16,16))\n",
    "cmap = sns.color_palette(\"Blues\", as_cmap=True)\n",
    "sns.heatmap(dataset.corr(), ax=ax, vmin=0, cmap=cmap, vmax=1, center=0,\n",
    "            square=True, linewidths=.5, cbar_kws={\"shrink\": .5}, annot=True)"
   ]
  },
  {
   "cell_type": "markdown",
   "id": "de64294e",
   "metadata": {},
   "source": [
    "Segons podem veure al mapa de calor, els atributs que tenen una forta correlació amb el preu son la cilindrada, la capacitat\n",
    "del motor, els caballs, la torsió i la velocitat màxima a la que pot arribar un cotxe. Ens quedarem amb aquests 5 atributs,\n",
    "que ja son suficients per la recta de regressió i tenen una correlació acceptable amb el preu i descartarem els altres."
   ]
  },
  {
   "cell_type": "code",
   "execution_count": 50,
   "id": "81a09142",
   "metadata": {},
   "outputs": [
    {
     "data": {
      "text/html": [
       "<div>\n",
       "<style scoped>\n",
       "    .dataframe tbody tr th:only-of-type {\n",
       "        vertical-align: middle;\n",
       "    }\n",
       "\n",
       "    .dataframe tbody tr th {\n",
       "        vertical-align: top;\n",
       "    }\n",
       "\n",
       "    .dataframe thead th {\n",
       "        text-align: right;\n",
       "    }\n",
       "</style>\n",
       "<table border=\"1\" class=\"dataframe\">\n",
       "  <thead>\n",
       "    <tr style=\"text-align: right;\">\n",
       "      <th></th>\n",
       "      <th>Torque</th>\n",
       "      <th>Cylinders</th>\n",
       "      <th>Horsepower</th>\n",
       "      <th>Top Speed</th>\n",
       "      <th>Engine Capacity</th>\n",
       "      <th>price</th>\n",
       "    </tr>\n",
       "  </thead>\n",
       "  <tbody>\n",
       "    <tr>\n",
       "      <th>count</th>\n",
       "      <td>4276.000000</td>\n",
       "      <td>4276.000000</td>\n",
       "      <td>4276.000000</td>\n",
       "      <td>4276.000000</td>\n",
       "      <td>4276.000000</td>\n",
       "      <td>4.276000e+03</td>\n",
       "    </tr>\n",
       "    <tr>\n",
       "      <th>mean</th>\n",
       "      <td>400.978251</td>\n",
       "      <td>5.545370</td>\n",
       "      <td>295.838167</td>\n",
       "      <td>224.523854</td>\n",
       "      <td>3.013471</td>\n",
       "      <td>1.498826e+05</td>\n",
       "    </tr>\n",
       "    <tr>\n",
       "      <th>std</th>\n",
       "      <td>194.877648</td>\n",
       "      <td>1.937274</td>\n",
       "      <td>180.654371</td>\n",
       "      <td>41.007010</td>\n",
       "      <td>1.384787</td>\n",
       "      <td>3.536594e+05</td>\n",
       "    </tr>\n",
       "    <tr>\n",
       "      <th>min</th>\n",
       "      <td>87.000000</td>\n",
       "      <td>3.000000</td>\n",
       "      <td>67.000000</td>\n",
       "      <td>140.000000</td>\n",
       "      <td>0.000000</td>\n",
       "      <td>2.899000e+03</td>\n",
       "    </tr>\n",
       "    <tr>\n",
       "      <th>25%</th>\n",
       "      <td>246.000000</td>\n",
       "      <td>4.000000</td>\n",
       "      <td>170.000000</td>\n",
       "      <td>190.000000</td>\n",
       "      <td>2.000000</td>\n",
       "      <td>1.690000e+04</td>\n",
       "    </tr>\n",
       "    <tr>\n",
       "      <th>50%</th>\n",
       "      <td>366.000000</td>\n",
       "      <td>6.000000</td>\n",
       "      <td>275.000000</td>\n",
       "      <td>220.000000</td>\n",
       "      <td>2.900000</td>\n",
       "      <td>5.230000e+04</td>\n",
       "    </tr>\n",
       "    <tr>\n",
       "      <th>75%</th>\n",
       "      <td>518.500000</td>\n",
       "      <td>6.000000</td>\n",
       "      <td>380.000000</td>\n",
       "      <td>250.000000</td>\n",
       "      <td>3.700000</td>\n",
       "      <td>1.749000e+05</td>\n",
       "    </tr>\n",
       "    <tr>\n",
       "      <th>max</th>\n",
       "      <td>1600.000000</td>\n",
       "      <td>16.000000</td>\n",
       "      <td>5050.000000</td>\n",
       "      <td>420.000000</td>\n",
       "      <td>8.000000</td>\n",
       "      <td>1.078000e+07</td>\n",
       "    </tr>\n",
       "  </tbody>\n",
       "</table>\n",
       "</div>"
      ],
      "text/plain": [
       "            Torque    Cylinders   Horsepower    Top Speed  Engine Capacity  \\\n",
       "count  4276.000000  4276.000000  4276.000000  4276.000000      4276.000000   \n",
       "mean    400.978251     5.545370   295.838167   224.523854         3.013471   \n",
       "std     194.877648     1.937274   180.654371    41.007010         1.384787   \n",
       "min      87.000000     3.000000    67.000000   140.000000         0.000000   \n",
       "25%     246.000000     4.000000   170.000000   190.000000         2.000000   \n",
       "50%     366.000000     6.000000   275.000000   220.000000         2.900000   \n",
       "75%     518.500000     6.000000   380.000000   250.000000         3.700000   \n",
       "max    1600.000000    16.000000  5050.000000   420.000000         8.000000   \n",
       "\n",
       "              price  \n",
       "count  4.276000e+03  \n",
       "mean   1.498826e+05  \n",
       "std    3.536594e+05  \n",
       "min    2.899000e+03  \n",
       "25%    1.690000e+04  \n",
       "50%    5.230000e+04  \n",
       "75%    1.749000e+05  \n",
       "max    1.078000e+07  "
      ]
     },
     "execution_count": 50,
     "metadata": {},
     "output_type": "execute_result"
    }
   ],
   "source": [
    "dataset = dataset[[\"Torque\",\"Cylinders\",\"Horsepower\",\"Top Speed\",\"Engine Capacity\",\"price\"]]\n",
    "dataset.describe()"
   ]
  },
  {
   "cell_type": "markdown",
   "id": "c9eecf49",
   "metadata": {},
   "source": [
    "La taula del resum dels 5 atributs que hem escollit ens mostra un minim i un maxim molt diferent entre cada atribut. Això pot\n",
    "arribar a donar problemes quan entrenem els models d'aprenentatge, i per tant, haurem de normalitzar/escalar les dades per\n",
    "tenir-les totes amb els mateixos rangs.  \n",
    "Anem a veure una mica com estan distribuides les dades en cada atribut escollit sobre el preu."
   ]
  },
  {
   "cell_type": "code",
   "execution_count": 51,
   "id": "e7ec2938",
   "metadata": {},
   "outputs": [
    {
     "data": {
      "image/png": "[encoded data removed]",
      "text/plain": [
       "<Figure size 432x288 with 5 Axes>"
      ]
     },
     "metadata": {
      "needs_background": "light"
     },
     "output_type": "display_data"
    }
   ],
   "source": [
    "dataset = dataset.values\n",
    "for i in range(1,6):\n",
    "    ax = plt.subplot(2,3,i)\n",
    "    ax.scatter(dataset[:,i-1], dataset[:,-1])"
   ]
  },
  {
   "cell_type": "markdown",
   "id": "a3c128d0",
   "metadata": {},
   "source": [
    "Es pot veure com les dades no estan molt ben distribuides, i per tant, la predicció no serà tan bona com podriem esperar."
   ]
  },
  {
   "cell_type": "markdown",
   "id": "8ba03114",
   "metadata": {},
   "source": [
    "# Preparació de les dades"
   ]
  },
  {
   "cell_type": "markdown",
   "id": "05a29e51",
   "metadata": {},
   "source": [
    "Abans de començar a crear i entrenar els diferents models que utilitzarem per predir el preu d'un cotxe, primer hem de preparar les dades. Primer escalarem les dades per la diferencia d'escala que tenen (ho hem vist a l'apartat d'anàlisi de les dades), i després hem de dividir el conjunt de dades en un conjunt de train i un conjunt de test."
   ]
  },
  {
   "cell_type": "code",
   "execution_count": 52,
   "id": "8cee952e",
   "metadata": {},
   "outputs": [
    {
     "name": "stdout",
     "output_type": "stream",
     "text": [
      "Valor minim: 0.0 - Valor maxim: 1.0\n"
     ]
    }
   ],
   "source": [
    "scaler = MinMaxScaler()\n",
    "scaler.fit(dataset)\n",
    "dataset = scaler.transform(dataset)\n",
    "\n",
    "x = dataset[:,:5]\n",
    "y = dataset[:,-1]\n",
    "\n",
    "print(\"Valor minim: \" + str(np.amin(dataset)) + \" - Valor maxim: \" + str(np.amax(dataset)))"
   ]
  },
  {
   "cell_type": "markdown",
   "id": "e123fc94",
   "metadata": {},
   "source": [
    "Ara que totes les dades les tenim escalades amb el mateix rang de valors, anem a dividir el conjunt de dades. Dividirem el conjunt en un 80% de les dades per el train, i un 20% per validar cada un dels models."
   ]
  },
  {
   "cell_type": "code",
   "execution_count": 53,
   "id": "957f923a",
   "metadata": {},
   "outputs": [],
   "source": [
    "x_train, x_test, y_train, y_test = train_test_split(x, y, test_size=0.2, random_state=1234)"
   ]
  },
  {
   "cell_type": "markdown",
   "id": "223394b7",
   "metadata": {},
   "source": [
    "# Creació dels models"
   ]
  },
  {
   "cell_type": "markdown",
   "id": "71cce21a",
   "metadata": {},
   "source": [
    "Per aquest problema implementarem 3 models diferents amb els parametres <b> per defecte </b> i els compararem per veure quin dona millors resultats."
   ]
  },
  {
   "cell_type": "markdown",
   "id": "da860a2c",
   "metadata": {},
   "source": [
    "## Multivariable Linear Regressor"
   ]
  },
  {
   "cell_type": "markdown",
   "id": "64093793",
   "metadata": {},
   "source": [
    "Primer creem el model:"
   ]
  },
  {
   "cell_type": "code",
   "execution_count": 54,
   "id": "b3e59f96",
   "metadata": {},
   "outputs": [],
   "source": [
    "linear_reg = LinearRegression()"
   ]
  },
  {
   "cell_type": "markdown",
   "id": "64f3fee8",
   "metadata": {},
   "source": [
    "Després entrenem el model amb les dades de train:"
   ]
  },
  {
   "cell_type": "code",
   "execution_count": 55,
   "id": "fb2905b2",
   "metadata": {},
   "outputs": [
    {
     "data": {
      "text/plain": [
       "LinearRegression()"
      ]
     },
     "execution_count": 55,
     "metadata": {},
     "output_type": "execute_result"
    }
   ],
   "source": [
    "linear_reg.fit(x_train, y_train)"
   ]
  },
  {
   "cell_type": "markdown",
   "id": "cbb4102a",
   "metadata": {},
   "source": [
    "Ara fem una predicció i evaluem el rendiment:"
   ]
  },
  {
   "cell_type": "code",
   "execution_count": 56,
   "id": "9f555138",
   "metadata": {},
   "outputs": [
    {
     "name": "stdout",
     "output_type": "stream",
     "text": [
      "Coeficient de determinació del model: 0.2109561848947339\n",
      "Error quadratic mitja: 0.0013321540248318617\n"
     ]
    }
   ],
   "source": [
    "prediccions = linear_reg.predict(x_test)\n",
    "print(\"Coeficient de determinació del model: \" + str(linear_reg.score(x_test, y_test)))\n",
    "print(\"Error quadratic mitja: \" + str(mean_squared_error(y_test, prediccions)))"
   ]
  },
  {
   "cell_type": "markdown",
   "id": "85dd4dd9",
   "metadata": {},
   "source": [
    "Com podem veure, el coeficient de determinació R2 ens dona 0.21, un valor bastant allunyat del millor possible, que seria 1. Per tant, la predicció no ha sigut molt bona.  \n",
    "Si visualitzem la predicció..."
   ]
  },
  {
   "cell_type": "code",
   "execution_count": 57,
   "id": "e6be8a37",
   "metadata": {},
   "outputs": [
    {
     "data": {
      "text/plain": [
       "[<matplotlib.lines.Line2D at 0x18955a65640>,\n",
       " <matplotlib.lines.Line2D at 0x18955a65670>,\n",
       " <matplotlib.lines.Line2D at 0x18955a65790>,\n",
       " <matplotlib.lines.Line2D at 0x18955a658b0>,\n",
       " <matplotlib.lines.Line2D at 0x18955a659d0>]"
      ]
     },
     "execution_count": 57,
     "metadata": {},
     "output_type": "execute_result"
    },
    {
     "data": {
      "image/png": "[encoded data removed]",
      "text/plain": [
       "<Figure size 432x288 with 1 Axes>"
      ]
     },
     "metadata": {
      "needs_background": "light"
     },
     "output_type": "display_data"
    }
   ],
   "source": [
    "plt.figure()\n",
    "ax = plt.scatter(x_test[:,0], y_test)\n",
    "plt.plot(x_test, prediccions, 'r')"
   ]
  },
  {
   "cell_type": "markdown",
   "id": "bf8e6153",
   "metadata": {},
   "source": [
    "Com podem veure, la regressió ha pogut predir molts punts, però altres estan fora d'aquesta funció que ha definit la regressió lineal multivariable."
   ]
  },
  {
   "cell_type": "markdown",
   "id": "a64400f2",
   "metadata": {},
   "source": [
    "## Decision Tree Regressor"
   ]
  },
  {
   "cell_type": "markdown",
   "id": "e12fdba5",
   "metadata": {},
   "source": [
    "Primer creem el model:"
   ]
  },
  {
   "cell_type": "code",
   "execution_count": 58,
   "id": "4d8d6a77",
   "metadata": {},
   "outputs": [],
   "source": [
    "decision_tree = DecisionTreeRegressor()"
   ]
  },
  {
   "cell_type": "markdown",
   "id": "320ddba1",
   "metadata": {},
   "source": [
    "Després l'entrenem amb les dades de train:"
   ]
  },
  {
   "cell_type": "code",
   "execution_count": 59,
   "id": "8d74bbf4",
   "metadata": {},
   "outputs": [
    {
     "data": {
      "text/plain": [
       "DecisionTreeRegressor()"
      ]
     },
     "execution_count": 59,
     "metadata": {},
     "output_type": "execute_result"
    }
   ],
   "source": [
    "decision_tree.fit(x_train, y_train)"
   ]
  },
  {
   "cell_type": "markdown",
   "id": "3dcf476b",
   "metadata": {},
   "source": [
    "Ara veurem una mica les caracteristiques d'aquest arbre que s'ens ha generat:"
   ]
  },
  {
   "cell_type": "code",
   "execution_count": 60,
   "id": "bbbc9a69",
   "metadata": {},
   "outputs": [
    {
     "name": "stdout",
     "output_type": "stream",
     "text": [
      "Profunditat del arbre: 24\n",
      "Numero de fulles del arbre: 809\n"
     ]
    }
   ],
   "source": [
    "print(\"Profunditat del arbre: \" + str(decision_tree.get_depth()))\n",
    "print(\"Numero de fulles del arbre: \" + str(decision_tree.get_n_leaves()))"
   ]
  },
  {
   "cell_type": "markdown",
   "id": "015769be",
   "metadata": {},
   "source": [
    "L'arbre que ha generat es molt gran, ja que té 809 nodes fulla i una profunditat de 24, però amb aquesta grandaria esperem que la regressió surti millor que la anterior.  \n",
    "Anem a fer una predicció i evaluar el rendiment:"
   ]
  },
  {
   "cell_type": "code",
   "execution_count": 61,
   "id": "676b0daa",
   "metadata": {},
   "outputs": [
    {
     "name": "stdout",
     "output_type": "stream",
     "text": [
      "Coeficient de determinació del model: 0.3156643992345497\n",
      "Error quadratic mitja: 0.0011553736401492519\n"
     ]
    }
   ],
   "source": [
    "prediccions_arbre = decision_tree.predict(x_test)\n",
    "print(\"Coeficient de determinació del model: \" + str(decision_tree.score(x_test, y_test)))\n",
    "print(\"Error quadratic mitja: \" + str(mean_squared_error(y_test, prediccions_arbre)))"
   ]
  },
  {
   "cell_type": "markdown",
   "id": "2a0b58f3",
   "metadata": {},
   "source": [
    "L'arbre ha predit una mica millor, ha pujat el coeficient de determinació i l'error quadratic mitjà ha baixat una mica també.  \n",
    "Si visualitzem la predicció..."
   ]
  },
  {
   "cell_type": "code",
   "execution_count": 62,
   "id": "34212e00",
   "metadata": {},
   "outputs": [
    {
     "data": {
      "text/plain": [
       "[<matplotlib.lines.Line2D at 0x189559fd940>,\n",
       " <matplotlib.lines.Line2D at 0x189559fd970>,\n",
       " <matplotlib.lines.Line2D at 0x189559fda90>,\n",
       " <matplotlib.lines.Line2D at 0x189559fdbb0>,\n",
       " <matplotlib.lines.Line2D at 0x189559fdcd0>]"
      ]
     },
     "execution_count": 62,
     "metadata": {},
     "output_type": "execute_result"
    },
    {
     "data": {
      "image/png": "[encoded data removed]",
      "text/plain": [
       "<Figure size 432x288 with 1 Axes>"
      ]
     },
     "metadata": {
      "needs_background": "light"
     },
     "output_type": "display_data"
    }
   ],
   "source": [
    "ax = plt.scatter(x_test[:,0], y_test)\n",
    "plt.plot(x_test, prediccions_arbre, 'r')"
   ]
  },
  {
   "cell_type": "markdown",
   "id": "2b4227ac",
   "metadata": {},
   "source": [
    "Es pot veure com l'arbre de decisió ha intentat predir inclús els punts que s'allunyen dels altres. Aquesta diferencia respecte amb la regressió lineal multivariable es deguda al tamany del arbre, que també ha generat casos pels punts més allunyats dels altres."
   ]
  },
  {
   "cell_type": "markdown",
   "id": "71521db8",
   "metadata": {},
   "source": [
    "## Random Forest Regressor"
   ]
  },
  {
   "cell_type": "markdown",
   "id": "950d3100",
   "metadata": {},
   "source": [
    "Primer creem el model:"
   ]
  },
  {
   "cell_type": "code",
   "execution_count": 63,
   "id": "30f80b18",
   "metadata": {},
   "outputs": [],
   "source": [
    "random_tree = RandomForestRegressor()"
   ]
  },
  {
   "cell_type": "markdown",
   "id": "d45414a7",
   "metadata": {},
   "source": [
    "Després l'entrenem amb les dades de train:"
   ]
  },
  {
   "cell_type": "code",
   "execution_count": 64,
   "id": "a0d3d86e",
   "metadata": {},
   "outputs": [
    {
     "data": {
      "text/plain": [
       "RandomForestRegressor()"
      ]
     },
     "execution_count": 64,
     "metadata": {},
     "output_type": "execute_result"
    }
   ],
   "source": [
    "random_tree.fit(x_train, y_train)"
   ]
  },
  {
   "cell_type": "markdown",
   "id": "839117d2",
   "metadata": {},
   "source": [
    "Ara fem una predicció i evaluem el rendiment:"
   ]
  },
  {
   "cell_type": "code",
   "execution_count": 65,
   "id": "becf4f84",
   "metadata": {},
   "outputs": [
    {
     "name": "stdout",
     "output_type": "stream",
     "text": [
      "Coeficient de determinació del model: 0.4092747240801068\n",
      "Error quadratic mitja: 0.0009973299819625513\n"
     ]
    }
   ],
   "source": [
    "prediccions_randtree = random_tree.predict(x_test)\n",
    "print(\"Coeficient de determinació del model: \" + str(random_tree.score(x_test, y_test)))\n",
    "print(\"Error quadratic mitja: \" + str(mean_squared_error(y_test, prediccions_randtree) ))"
   ]
  },
  {
   "cell_type": "markdown",
   "id": "2cff38a5",
   "metadata": {},
   "source": [
    "Com podem veure, el Random Forest ha pogut millorar encara més el rendiment dels altres dos models. El coeficient de determinació l'ha augmentat en un 10%, i també ha baixat una mica més el error quadratic mitjà.  \n",
    "Si visualitzem la predicció un cop més..."
   ]
  },
  {
   "cell_type": "code",
   "execution_count": 66,
   "id": "07e29bbb",
   "metadata": {},
   "outputs": [
    {
     "data": {
      "text/plain": [
       "[<matplotlib.lines.Line2D at 0x1895590d0d0>,\n",
       " <matplotlib.lines.Line2D at 0x1895590d100>,\n",
       " <matplotlib.lines.Line2D at 0x1895590d220>,\n",
       " <matplotlib.lines.Line2D at 0x1895590d340>,\n",
       " <matplotlib.lines.Line2D at 0x1895590d460>]"
      ]
     },
     "execution_count": 66,
     "metadata": {},
     "output_type": "execute_result"
    },
    {
     "data": {
      "image/png": "[encoded data removed]",
      "text/plain": [
       "<Figure size 432x288 with 1 Axes>"
      ]
     },
     "metadata": {
      "needs_background": "light"
     },
     "output_type": "display_data"
    }
   ],
   "source": [
    "ax = plt.scatter(x_test[:,0], y_test)\n",
    "plt.plot(x_test, prediccions_randtree, 'r')"
   ]
  },
  {
   "cell_type": "markdown",
   "id": "08625508",
   "metadata": {},
   "source": [
    "El Random Forest ha fet la regressió de forma similar al Decision Tree, ja que es pot veure una funció de regressió molt semblant a la anterior.  \n",
    "  \n",
    "En aquesta taula deixem un resum del rendiment dels 3 models:"
   ]
  },
  {
   "cell_type": "code",
   "execution_count": 67,
   "id": "3c4efc9c",
   "metadata": {},
   "outputs": [
    {
     "name": "stdout",
     "output_type": "stream",
     "text": [
      "+------------------+--------------------+-----------------------+\n",
      "|      Model       |      R2 score      |          MSE          |\n",
      "+------------------+--------------------+-----------------------+\n",
      "| Linear Regressor | 0.2109561848947339 | 0.0013321540248318617 |\n",
      "|  Decision Tree   | 0.3156643992345497 | 0.0011553736401492519 |\n",
      "|  Random Forest   | 0.4092747240801068 | 0.0009973299819625513 |\n",
      "+------------------+--------------------+-----------------------+\n"
     ]
    }
   ],
   "source": [
    "table = PrettyTable()\n",
    "table.field_names = [\"Model\", \"R2 score\", \"MSE\"]\n",
    "table.add_row([\"Linear Regressor\",linear_reg.score(x_test, y_test),mean_squared_error(y_test, prediccions)])\n",
    "table.add_row([\"Decision Tree\",decision_tree.score(x_test, y_test),mean_squared_error(y_test, prediccions_arbre)])\n",
    "table.add_row([\"Random Forest\",random_tree.score(x_test, y_test),mean_squared_error(y_test, prediccions_randtree)])\n",
    "print(table)"
   ]
  },
  {
   "cell_type": "markdown",
   "id": "a36db828",
   "metadata": {},
   "source": [
    "# Cerca dels millors hiperparametres"
   ]
  },
  {
   "cell_type": "markdown",
   "id": "e942b327",
   "metadata": {},
   "source": [
    "Un cop hem vist el rendiment de cadascun dels 3 models amb els parametres per defecte, ara anem a buscar quins son els millors parametres que maximitzen el rendiment de cadascun dels 3 models, i així podrem escollir el que presenti major rendiment amb els seus parametres òptims.  \n",
    "Per trobat els hiperparametres òptims podem utilitzar moltes funcions destinades a aquesta tasca, però utilitzarem 2 que son molt conegudes i molt simples d'utilitzar: GridSearchCV i RandomizedSearchCV.  \n",
    "\n",
    "\n",
    "\n",
    "Per poder utilitzarles, primer hem de crear un diccionari on ficarem els parametres que volem probar i els diferents valors, i la funció trobara la combinació de valors que doni el score més alt."
   ]
  },
  {
   "cell_type": "code",
   "execution_count": 74,
   "id": "abf52773",
   "metadata": {},
   "outputs": [],
   "source": [
    "param_linearreg = {'fit_intercept': [True, False]}\n",
    "param_decisiontree = {\"splitter\":[\"best\",\"random\"],\n",
    "            \"max_depth\" : [1,3,5,10,15,25,30,50],\n",
    "            \"min_weight_fraction_leaf\":[0.0,0.1,0.2,0.3,0.4,0.5],\n",
    "           \"max_features\":[\"auto\",\"log2\",\"sqrt\",None],\n",
    "           \"max_leaf_nodes\":[None,10,20,50,80,100,250,500] }\n",
    "param_randomforest = {'n_estimators': [int(x) for x in np.linspace(start = 200, stop = 2000, num = 10)],\n",
    "               'max_features': ['auto', 'sqrt'],\n",
    "               'max_depth': [int(x) for x in np.linspace(10, 110, num = 11)],\n",
    "               'min_samples_split': [2, 5, 10],\n",
    "               'min_samples_leaf': [1, 2, 4],\n",
    "               'bootstrap': [True, False]}"
   ]
  },
  {
   "cell_type": "markdown",
   "id": "e76e747f",
   "metadata": {},
   "source": [
    "Els diferents parametres que volem probar, per exemple, serien: en els arbres la profunditat màxima, el numero màxim de fulles, si volem aplicar la tecnica del bootstrapping, etc...  \n",
    "Per la regressió lineal nomes podem probar amb el fit_intercept."
   ]
  },
  {
   "cell_type": "markdown",
   "id": "71b53e48",
   "metadata": {},
   "source": [
    "Doncs, anem ara a buscar els millors hiperparametres"
   ]
  },
  {
   "cell_type": "markdown",
   "id": "c95c87ee",
   "metadata": {},
   "source": [
    "## Multivariable Linear Regression"
   ]
  },
  {
   "cell_type": "code",
   "execution_count": 75,
   "id": "8cbb5464",
   "metadata": {},
   "outputs": [
    {
     "name": "stdout",
     "output_type": "stream",
     "text": [
      "Fitting 3 folds for each of 2 candidates, totalling 6 fits\n",
      "Els millors parametres: {'fit_intercept': False}\n",
      "La millor score: 0.24839482750864475\n",
      "Error quadratic mitja: 0.0364908621770943\n"
     ]
    }
   ],
   "source": [
    "grid_linearreg = GridSearchCV(LinearRegression(), param_linearreg, cv=3, verbose=2, n_jobs=-1)\n",
    "grid_linearreg.fit(x_train,y_train)\n",
    "print(\"Els millors parametres: \" + str(grid_linearreg.best_params_))\n",
    "print(\"La millor score: \" + str(grid_linearreg.best_score_))\n",
    "print(\"Error quadratic mitja: \" + str(math.sqrt(mean_squared_error(y_test,grid_linearreg.predict(x_test)))))"
   ]
  },
  {
   "cell_type": "markdown",
   "id": "4e0fb8ab",
   "metadata": {},
   "source": [
    "## Decision Tree"
   ]
  },
  {
   "cell_type": "code",
   "execution_count": 76,
   "id": "5fe7f279",
   "metadata": {},
   "outputs": [
    {
     "name": "stdout",
     "output_type": "stream",
     "text": [
      "Fitting 3 folds for each of 3072 candidates, totalling 9216 fits\n",
      "Els millors parametres: {'max_depth': 5, 'max_features': 'log2', 'max_leaf_nodes': 50, 'min_weight_fraction_leaf': 0.0, 'splitter': 'best'}\n",
      "La millor score: 0.6171369161521708\n",
      "Error quadratic mitja: 0.03387835487660806\n"
     ]
    }
   ],
   "source": [
    "grid_decisiontree = GridSearchCV(DecisionTreeRegressor(), param_decisiontree, cv=3, verbose=2, n_jobs=-1)\n",
    "grid_decisiontree.fit(x_train,y_train)\n",
    "print(\"Els millors parametres: \" + str(grid_decisiontree.best_params_))\n",
    "print(\"La millor score: \" + str(grid_decisiontree.best_score_))\n",
    "print(\"Error quadratic mitja: \" + str(math.sqrt(mean_squared_error(y_test,grid_decisiontree.predict(x_test)))))"
   ]
  },
  {
   "cell_type": "markdown",
   "id": "af70b0a9",
   "metadata": {},
   "source": [
    "## Random Forest"
   ]
  },
  {
   "cell_type": "code",
   "execution_count": 78,
   "id": "701ea477",
   "metadata": {},
   "outputs": [
    {
     "name": "stdout",
     "output_type": "stream",
     "text": [
      "Fitting 3 folds for each of 100 candidates, totalling 300 fits\n",
      "Els millors parametres: {'n_estimators': 2000, 'min_samples_split': 10, 'min_samples_leaf': 1, 'max_features': 'sqrt', 'max_depth': 20, 'bootstrap': False}\n",
      "La millor score: 0.5672584013912844\n",
      "Error quadratic mitja: 0.033894325358993796\n"
     ]
    }
   ],
   "source": [
    "grid_randomforest = RandomizedSearchCV(RandomForestRegressor(), param_randomforest, \n",
    "                              n_iter = 100, cv = 3, verbose=2, random_state=42, n_jobs = -1)\n",
    "grid_randomforest.fit(x_train,y_train)\n",
    "print(\"Els millors parametres: \" + str(grid_randomforest.best_params_))\n",
    "print(\"La millor score: \" + str(grid_randomforest.best_score_))\n",
    "print(\"Error quadratic mitja: \" + str(math.sqrt(mean_squared_error(y_test,grid_randomforest.predict(x_test)))))"
   ]
  },
  {
   "cell_type": "markdown",
   "id": "5db41ec1",
   "metadata": {},
   "source": [
    "La cerca per la regressió lineal i l'arbre de decisió la hem implementat amb GridSearchCV perque la cerca no ha trigat molt temps, però amb el Random Forest hem hagut d'utilitzar RandomizedSearchCV per reduir cost i temps, ja que el RandomizedSearchCV s' estalvia fer algunes combinacions inutils (inicia la cerca dels parametres de forma aleatoria i para quan ha trobat els millors)."
   ]
  },
  {
   "cell_type": "markdown",
   "id": "b9ddbc50",
   "metadata": {},
   "source": [
    "En aquesta taula farem un resum dels resultats obtinguts, i a continuació, farem un petit anàlisi."
   ]
  },
  {
   "cell_type": "code",
   "execution_count": 84,
   "id": "a122c060",
   "metadata": {},
   "outputs": [
    {
     "name": "stdout",
     "output_type": "stream",
     "text": [
      "+------------------+---------------------+-----------------------+\n",
      "|      Model       |       R2 score      |          MSE          |\n",
      "+------------------+---------------------+-----------------------+\n",
      "| Linear Regressor | 0.24839482750864475 | 0.0013315830224276915 |\n",
      "|  Decision Tree   |  0.6171369161521708 | 0.0011477429291453932 |\n",
      "|  Random Forest   |  0.5672584013912844 | 0.0011488252915413297 |\n",
      "+------------------+---------------------+-----------------------+\n"
     ]
    }
   ],
   "source": [
    "table = PrettyTable()\n",
    "table.field_names = [\"Model\", \"R2 score\", \"MSE\"]\n",
    "table.add_row([\"Linear Regressor\",grid_linearreg.best_score_, mean_squared_error(y_test,grid_linearreg.predict(x_test))])\n",
    "table.add_row([\"Decision Tree\",grid_decisiontree.best_score_, mean_squared_error(y_test,grid_decisiontree.predict(x_test))])\n",
    "table.add_row([\"Random Forest\",grid_randomforest.best_score_, mean_squared_error(y_test,grid_randomforest.predict(x_test))])\n",
    "print(table)"
   ]
  },
  {
   "cell_type": "markdown",
   "id": "be3659a4",
   "metadata": {},
   "source": [
    "Com es pot veure, el Decision Tree i el Random Forest han funcionat millor que el model de regressió lineal. Si ens fixem en els parametres que hem anat provant, pels dos ultims hem provat molts més parametres i valors que no pas amb la regressió lineal.  \n",
    "\n",
    "  \n",
    "  \n",
    "Com la regressió lineal nomes té el parametre fit_intercept, ens ha pujat un 3% el score perque es millor posar-ho a True que a False, però pels altres models ens ha donat una combinació de parametres molt més variada i rica, cosa que ha fet pujar el score fins a mes d'un 20% en el cas del Decision Tree."
   ]
  },
  {
   "cell_type": "code",
   "execution_count": null,
   "id": "bc1370ba",
   "metadata": {},
   "outputs": [],
   "source": []
  }
 ],
 "metadata": {
  "kernelspec": {
   "display_name": "Python 3 (ipykernel)",
   "language": "python",
   "name": "python3"
  },
  "language_info": {
   "codemirror_mode": {
    "name": "ipython",
    "version": 3
   },
   "file_extension": ".py",
   "mimetype": "text/x-python",
   "name": "python",
   "nbconvert_exporter": "python",
   "pygments_lexer": "ipython3",
   "version": "3.9.4"
  }
 },
 "nbformat": 4,
 "nbformat_minor": 5
}
